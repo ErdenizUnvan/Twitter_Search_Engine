{
 "cells": [
  {
   "cell_type": "code",
   "execution_count": null,
   "id": "e63afbdf",
   "metadata": {},
   "outputs": [],
   "source": [
    "#Twitter icin : https://pypi.org/project/tweepy/"
   ]
  },
  {
   "cell_type": "code",
   "execution_count": null,
   "id": "f2075303",
   "metadata": {},
   "outputs": [],
   "source": [
    "#Ilgili kutuphaneleri install edin"
   ]
  },
  {
   "cell_type": "code",
   "execution_count": null,
   "id": "77f2b136",
   "metadata": {},
   "outputs": [],
   "source": [
    "!pip install tweepy"
   ]
  },
  {
   "cell_type": "code",
   "execution_count": null,
   "id": "5cb1a441",
   "metadata": {},
   "outputs": [],
   "source": [
    "!pip install pandas"
   ]
  },
  {
   "cell_type": "code",
   "execution_count": null,
   "id": "10006f00",
   "metadata": {},
   "outputs": [],
   "source": [
    "#Ilgili kutuphaneleri import edin"
   ]
  },
  {
   "cell_type": "code",
   "execution_count": null,
   "id": "ab41234d",
   "metadata": {},
   "outputs": [],
   "source": [
    "import tweepy\n",
    "import pandas as pd"
   ]
  },
  {
   "cell_type": "code",
   "execution_count": null,
   "id": "a7e3ce98",
   "metadata": {},
   "outputs": [],
   "source": [
    "#Twitter API'dan apikey lazim. Consumer_key ve Consumer_secret almaniz lazim.\n",
    "#Nasil ve nereden alabiliriz: https://developer.twitter.com/en/docs/platform-overview"
   ]
  },
  {
   "cell_type": "code",
   "execution_count": null,
   "id": "6365bc98",
   "metadata": {},
   "outputs": [],
   "source": [
    "consumer_key = \"\"\n",
    "consumer_secret = \"\""
   ]
  },
  {
   "cell_type": "code",
   "execution_count": null,
   "id": "3f5a04fd",
   "metadata": {},
   "outputs": [],
   "source": [
    "#Authentication"
   ]
  },
  {
   "cell_type": "code",
   "execution_count": null,
   "id": "85a6d24f",
   "metadata": {},
   "outputs": [],
   "source": [
    "try:\n",
    "    auth = tweepy.AppAuthHandler(consumer_key, consumer_secret)\n",
    "    api = tweepy.API(auth)\n",
    "except BaseException as e:\n",
    "    print(f\"Authentication has been failed due to -{str(e)}\")"
   ]
  },
  {
   "cell_type": "code",
   "execution_count": null,
   "id": "2861ac71",
   "metadata": {},
   "outputs": [],
   "source": [
    "#Tweetlerden Database olustur\n",
    "def getTweets(search_words, date_since, numTweets):\n",
    "    \n",
    "    # Define a pandas dataframe to store the date:\n",
    "    tweets_df = pd.DataFrame(columns = ['username', 'desc', 'location', 'following',\n",
    "                                        'followers', 'totaltweets', 'usercreated', 'tweetcreated',\n",
    "                                        'retweetcount', 'text', 'hashtags']\n",
    "                                )\n",
    "\n",
    "    # Collect tweets using the Cursor object\n",
    "    # .Cursor() returns an object that you can iterate or loop over to access the data collected.\n",
    "    tweets = tweepy.Cursor(api.search, q=search_words, lang=\"en\", since=date_since, tweet_mode='extended').items(numTweets)\n",
    "    # Store tweets into a python list\n",
    "    tweet_list = [tweet for tweet in tweets]\n",
    "    for tweet in tweet_list:\n",
    "        username = tweet.user.screen_name\n",
    "        desc = tweet.user.description\n",
    "        location = tweet.user.location\n",
    "        following = tweet.user.friends_count\n",
    "        followers = tweet.user.followers_count\n",
    "        totaltweets = tweet.user.statuses_count\n",
    "        usercreated = tweet.user.created_at\n",
    "        tweetcreated = tweet.created_at\n",
    "        retweetcount = tweet.retweet_count\n",
    "        hashtags = tweet.entities['hashtags']\n",
    "        try:\n",
    "            text = tweet.retweeted_status.full_text\n",
    "        except AttributeError:\n",
    "            text = tweet.full_text\n",
    "        \n",
    "        tweet_data = [username, desc, location, following, followers, totaltweets,\n",
    "                        usercreated, tweetcreated, retweetcount, text, hashtags]\n",
    "        \n",
    "        tweets_df.loc[len(tweets_df)] = tweet_data\n",
    "        \n",
    "    \n",
    "    return tweets_df"
   ]
  },
  {
   "cell_type": "code",
   "execution_count": null,
   "id": "7ea0c142",
   "metadata": {},
   "outputs": [],
   "source": [
    "#neyi aramak istedigini yaz:\n",
    "search_words = \"#deprem OR #enkaz OR #göçük OR #yardım OR #mahalle OR #sokak\" \n",
    "date_since = \"2023-02-04\"\n",
    "numTweets = 100"
   ]
  },
  {
   "cell_type": "code",
   "execution_count": null,
   "id": "f2321dd2",
   "metadata": {},
   "outputs": [],
   "source": [
    "#sonuclari al"
   ]
  },
  {
   "cell_type": "code",
   "execution_count": null,
   "id": "15015874",
   "metadata": {},
   "outputs": [],
   "source": [
    "df = getTweets(search_words, date_since, numTweets)"
   ]
  },
  {
   "cell_type": "code",
   "execution_count": null,
   "id": "f596c709",
   "metadata": {},
   "outputs": [],
   "source": [
    "df.to_excel('tweet.xlsx')"
   ]
  },
  {
   "cell_type": "code",
   "execution_count": null,
   "id": "fafccff7",
   "metadata": {},
   "outputs": [],
   "source": []
  },
  {
   "cell_type": "code",
   "execution_count": null,
   "id": "7c68ea3e",
   "metadata": {},
   "outputs": [],
   "source": []
  },
  {
   "cell_type": "code",
   "execution_count": null,
   "id": "2424c720",
   "metadata": {},
   "outputs": [],
   "source": []
  },
  {
   "cell_type": "code",
   "execution_count": null,
   "id": "d8a0af1d",
   "metadata": {},
   "outputs": [],
   "source": []
  },
  {
   "cell_type": "code",
   "execution_count": null,
   "id": "08080e95",
   "metadata": {},
   "outputs": [],
   "source": []
  },
  {
   "cell_type": "code",
   "execution_count": null,
   "id": "62af58e0",
   "metadata": {},
   "outputs": [],
   "source": []
  },
  {
   "cell_type": "code",
   "execution_count": null,
   "id": "7b5bfe73",
   "metadata": {},
   "outputs": [],
   "source": []
  }
 ],
 "metadata": {
  "kernelspec": {
   "display_name": "Python 3 (ipykernel)",
   "language": "python",
   "name": "python3"
  },
  "language_info": {
   "codemirror_mode": {
    "name": "ipython",
    "version": 3
   },
   "file_extension": ".py",
   "mimetype": "text/x-python",
   "name": "python",
   "nbconvert_exporter": "python",
   "pygments_lexer": "ipython3",
   "version": "3.9.13"
  }
 },
 "nbformat": 4,
 "nbformat_minor": 5
}
